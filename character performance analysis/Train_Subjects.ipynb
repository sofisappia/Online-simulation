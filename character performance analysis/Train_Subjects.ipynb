{
 "cells": [
  {
   "cell_type": "code",
   "execution_count": 3,
   "metadata": {},
   "outputs": [],
   "source": [
    "from __future__ import division\n",
    "\n",
    "import sys\n",
    "import time\n",
    "import logging\n",
    "import numpy as np\n",
    "from scipy.io import loadmat\n",
    "from os import path\n",
    "\n",
    "# change this to the path of mushu if you don't have it in your\n",
    "# PYTHONPATH already\n",
    "sys.path.append('../../mushu')\n",
    "sys.path.append('../')\n",
    "\n",
    "import libmushu\n",
    "from libmushu.driver.replayamp import ReplayAmp\n",
    "from wyrm.types import RingBuffer\n",
    "import wyrm.processing as proc\n",
    "from wyrm import io\n",
    "from wyrm.types import Data, BlockBuffer, RingBuffer\n",
    "from pandas import read_csv      \n",
    "\n",
    "#Classifiers\n",
    "from sklearn.discriminant_analysis import LinearDiscriminantAnalysis\n",
    "from sklearn import metrics\n",
    "import matplotlib\n",
    "import matplotlib.pyplot as plt\n",
    "\n",
    "from sklearn.externals import joblib\n",
    "from os import listdir\n",
    "from os.path import isfile, join\n",
    "\n",
    "import pickle"
   ]
  },
  {
   "cell_type": "code",
   "execution_count": 36,
   "metadata": {},
   "outputs": [],
   "source": [
    "STIMULUS_CODE = {\n",
    "    # cols from left to right\n",
    "    1 : \"agmsy5\",\n",
    "    2 : \"bhntz6\",\n",
    "    3 : \"ciou17\",\n",
    "    4 : \"djpv28\",\n",
    "    5 : \"ekqw39\",\n",
    "    6 : \"flrx4_\",\n",
    "    # rows from top to bottom\n",
    "    7 : \"abcdef\",\n",
    "    8 : \"ghijkl\",\n",
    "    9 : \"mnopqr\",\n",
    "    10: \"stuvwx\",\n",
    "    11: \"yz1234\",\n",
    "    12: \"56789_\"\n",
    "}\n",
    "\n",
    "MARKER_DEF_TRAIN = {'target': ['target'], 'nontarget': ['nontarget']}\n",
    "MARKER_DEF_TEST = {i : [i] for i in STIMULUS_CODE.values()}\n",
    "\n",
    "SEG_IVAL = [0, 800]"
   ]
  },
  {
   "cell_type": "code",
   "execution_count": 44,
   "metadata": {},
   "outputs": [],
   "source": [
    "def train(dat):\n",
    "    cnt = dat\n",
    "\n",
    "    fs_n = cnt.fs / 2\n",
    "\n",
    "    b, a = proc.signal.butter(5, [10 / fs_n], btype='low')\n",
    "    cnt = proc.lfilter(cnt, b, a)\n",
    "\n",
    "#     b, a = proc.signal.butter(5, [.4 / fs_n], btype='high')\n",
    "#     cnt = proc.lfilter(cnt, b, a)\n",
    "\n",
    "    cnt = proc.subsample(cnt, 20)\n",
    "\n",
    "    epo = proc.segment_dat(cnt, MARKER_DEF_TRAIN, SEG_IVAL)\n",
    "\n",
    "    #from wyrm import plot\n",
    "    #plot.plot_spatio_temporal_r2_values(proc.sort_channels(epo))\n",
    "    #print JUMPING_MEANS_IVALS\n",
    "    #plot.plt.show()\n",
    "\n",
    "    fv = proc.create_feature_vectors(epo)\n",
    "    X = fv.data\n",
    "    y = fv.axes[0]\n",
    "#     X_train, X_valid, y_train, y_valid = train_test_split(X, y, test_size = 0.3, train_size = 0.7)\n",
    "\n",
    "    #     clf = proc.lda_train(fv)\n",
    "    clf = LinearDiscriminantAnalysis(solver='eigen')\n",
    "    clf.fit(X,y)\n",
    "    return clf"
   ]
  },
  {
   "cell_type": "code",
   "execution_count": 31,
   "metadata": {
    "scrolled": true
   },
   "outputs": [],
   "source": [
    "# Getting the data objects\n",
    "with open('data_subjs.pkl','rb') as f:  \n",
    "    train_A,train_Abis,train_B,train_Bbis,train_C,test_A,test_Abis,test_B,test_Bbis,test_C = pickle.load(f)"
   ]
  },
  {
   "cell_type": "code",
   "execution_count": 51,
   "metadata": {},
   "outputs": [],
   "source": [
    "train_data = {'A': train_A, 'Abis': train_Abis, 'B': train_B, 'Bbis': train_Bbis, 'C': train_C}\n",
    "test_data = {'A': test_A, 'Abis': test_Abis, 'B': test_B, 'Bbis': test_Bbis, 'C': test_C}"
   ]
  },
  {
   "cell_type": "code",
   "execution_count": 52,
   "metadata": {},
   "outputs": [],
   "source": [
    "for s in train_data.keys():\n",
    "    subject = s\n",
    "    clf = train(train_data[subject])\n",
    "    filename = 'Trained Classifiers/'+subject+'/LDA_'+subject+'.pkl'\n",
    "    joblib.dump(clf, filename)"
   ]
  },
  {
   "cell_type": "code",
   "execution_count": null,
   "metadata": {},
   "outputs": [],
   "source": []
  }
 ],
 "metadata": {
  "kernelspec": {
   "display_name": "Python 3",
   "language": "python",
   "name": "python3"
  },
  "language_info": {
   "codemirror_mode": {
    "name": "ipython",
    "version": 3
   },
   "file_extension": ".py",
   "mimetype": "text/x-python",
   "name": "python",
   "nbconvert_exporter": "python",
   "pygments_lexer": "ipython3",
   "version": "3.6.5"
  }
 },
 "nbformat": 4,
 "nbformat_minor": 2
}
